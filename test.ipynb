{
 "cells": [
  {
   "cell_type": "code",
   "execution_count": 1,
   "metadata": {},
   "outputs": [
    {
     "name": "stdout",
     "output_type": "stream",
     "text": [
      "['Indian borage (Doddapatre)', 'Curd (Dahi / Yogurt)', 'Cumin seeds (Jeera)', 'Whole Black Peppercorns', 'Dessicated Coconut', 'Salt', 'Ghee']\n"
     ]
    }
   ],
   "source": [
    "import re\n",
    "ingredients = [\n",
    "    \"4 cups Indian borage (Doddapatre), cleaned and washed\",\n",
    "    \"1/2 cup Curd (Dahi / Yogurt)\",\n",
    "    \"1 tablespoon Cumin seeds (Jeera)\",\n",
    "    \"1/2 teaspoon Whole Black Peppercorns\",\n",
    "    \"1/4 cup Dessicated Coconut\",\n",
    "    \"Salt, to taste\",\n",
    "    \"2 tablespoons Ghee\"\n",
    "]\n",
    "\n",
    "ingredients_only = []\n",
    "for ingredient in ingredients:\n",
    "    # Remove the quantity and unit using regex\n",
    "    cleaned_ingredient = re.sub(r\"^\\d+([/.,]?\\d+)?\\s*\\w+\\s*\", \"\", ingredient)\n",
    "    \n",
    "    # Extract only the ingredient name before any commas (removing descriptors)\n",
    "    core_ingredient = cleaned_ingredient.split(',')[0]\n",
    "    \n",
    "    # Append the core ingredient name to the list\n",
    "    ingredients_only.append(core_ingredient.strip())\n",
    "\n",
    "\n",
    "print(ingredients_only)"
   ]
  }
 ],
 "metadata": {
  "kernelspec": {
   "display_name": "Python 3",
   "language": "python",
   "name": "python3"
  },
  "language_info": {
   "codemirror_mode": {
    "name": "ipython",
    "version": 3
   },
   "file_extension": ".py",
   "mimetype": "text/x-python",
   "name": "python",
   "nbconvert_exporter": "python",
   "pygments_lexer": "ipython3",
   "version": "3.10.11"
  }
 },
 "nbformat": 4,
 "nbformat_minor": 2
}
