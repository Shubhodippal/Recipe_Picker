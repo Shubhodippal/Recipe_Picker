{
 "cells": [
  {
   "cell_type": "code",
   "execution_count": 1,
   "metadata": {},
   "outputs": [
    {
     "name": "stderr",
     "output_type": "stream",
     "text": [
      "['1 Fish']\n"
     ]
    }
   ],
   "source": [
    "import nltk\n",
    "from nltk.corpus import stopwords\n",
    "from nltk.tokenize import word_tokenize\n",
    "import re\n",
    "\n",
    "# Download stopwords if not already downloaded\n",
    "nltk.download('punkt')\n",
    "nltk.download('stopwords')\n",
    "\n",
    "# List of measurement units and descriptors to filter out\n",
    "units = ['cup', 'cups', 'tablespoon', 'tablespoons', 'teaspoon', 'teaspoons', 'g', 'kg', 'ml', 'l', 'inch']\n",
    "descriptors = ['chopped', 'finely', 'nicely', 'washed', 'cleaned', 'with', 'on', 'to', 'taste']\n",
    "\n",
    "# Stop words (common English words like \"and\", \"or\", etc.)\n",
    "stop_words = set(stopwords.words('english'))\n",
    "\n",
    "ingredients = [\n",
    "    \"1 Fish , nicely washed with bones on (I used Pompano)\",\n",
    "    \"2 tablespoons Curd (Dahi / Yogurt)\",\n",
    "    \"1/4 cup Onions , finely chopped\",\n",
    "    \"2 Green Chillies , chopped\",\n",
    "    \"1 tablespoon Tandoori masala\",\n",
    "    \"1 teaspoon Ginger Garlic Paste\",\n",
    "    \"1 teaspoon Red Chilli powder\",\n",
    "    \"1 teaspoon Garam masala powder\",\n",
    "    \"1 teaspoon Coriander Powder (Dhania)\",\n",
    "    \"1/2 teaspoon Cumin powder (Jeera)\",\n",
    "    \"1 tablespoon Coriander (Dhania) Leaves , finely chopped\",\n",
    "    \"1 tablespoon Oil\",\n",
    "    \"Salt , to taste\"\n",
    "]\n",
    "\n",
    "ingredients_only = []\n",
    "for ingredient in ingredients:\n",
    "    # Tokenize the ingredient string\n",
    "    tokens = word_tokenize(ingredient)\n",
    "    \n",
    "    # Filter out stopwords, numbers, units, and descriptors\n",
    "    filtered_tokens = [\n",
    "        word for word in tokens \n",
    "        if word.lower() not in stop_words and word.lower() not in units \n",
    "        and word.lower() not in descriptors and not re.match(r'^\\d+([/.,]?\\d+)?$', word)\n",
    "    ]\n",
    "    \n",
    "    # Join filtered tokens to form the cleaned ingredient name\n",
    "    cleaned_ingredient = ' '.join(filtered_tokens)\n",
    "    \n",
    "    # Split and remove text within parentheses\n",
    "    cleaned_ingredient = re.split(r'\\(|,', cleaned_ingredient)[0].strip()\n",
    "\n",
    "    ingredients_only.append(cleaned_ingredient)\n",
    "\n",
    "print(ingredients_only)\n"
   ]
  }
 ],
 "metadata": {
  "kernelspec": {
   "display_name": "Python 3",
   "language": "python",
   "name": "python3"
  },
  "language_info": {
   "codemirror_mode": {
    "name": "ipython",
    "version": 3
   },
   "file_extension": ".py",
   "mimetype": "text/x-python",
   "name": "python",
   "nbconvert_exporter": "python",
   "pygments_lexer": "ipython3",
   "version": "3.10.11"
  }
 },
 "nbformat": 4,
 "nbformat_minor": 2
}
