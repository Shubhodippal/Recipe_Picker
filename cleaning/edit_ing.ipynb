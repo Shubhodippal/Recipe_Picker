{
 "cells": [
  {
   "cell_type": "code",
   "execution_count": 1,
   "metadata": {},
   "outputs": [
    {
     "name": "stdout",
     "output_type": "stream",
     "text": [
      "Resulting sentences written to edited_ing.txt\n"
     ]
    }
   ],
   "source": [
    "file_name = \"edited_ing.txt\"\n",
    "def delete_after_colon(file_name):\n",
    "    new_sentences = []\n",
    "    with open(file_name, 'r') as file:\n",
    "        for line in file:\n",
    "            sentence = line.strip()\n",
    "            parts = sentence.split(\":\", 1)\n",
    "            if len(parts) > 0:\n",
    "                new_sentence = parts[0].strip()\n",
    "                new_sentences.append(new_sentence)\n",
    "            else:\n",
    "                new_sentences.append(sentence)\n",
    "    return new_sentences\n",
    "\n",
    "result = delete_after_colon(file_name)\n",
    "\n",
    "# Create a new text file to store the resulting sentences\n",
    "output_file_name = \"edited_ing.txt\"\n",
    "with open(output_file_name, 'w') as output_file:\n",
    "    for sentence in result:\n",
    "        output_file.write(sentence + \"\\n\")\n",
    "\n",
    "print(f\"Resulting sentences written to {output_file_name}\")"
   ]
  }
 ],
 "metadata": {
  "kernelspec": {
   "display_name": "Python 3",
   "language": "python",
   "name": "python3"
  },
  "language_info": {
   "codemirror_mode": {
    "name": "ipython",
    "version": 3
   },
   "file_extension": ".py",
   "mimetype": "text/x-python",
   "name": "python",
   "nbconvert_exporter": "python",
   "pygments_lexer": "ipython3",
   "version": "3.10.11"
  }
 },
 "nbformat": 4,
 "nbformat_minor": 2
}
