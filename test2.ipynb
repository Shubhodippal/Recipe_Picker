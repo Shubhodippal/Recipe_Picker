{
 "cells": [
  {
   "cell_type": "code",
   "execution_count": 1,
   "metadata": {},
   "outputs": [
    {
     "ename": "ModuleNotFoundError",
     "evalue": "No module named 'spacy'",
     "output_type": "error",
     "traceback": [
      "\u001b[1;31m---------------------------------------------------------------------------\u001b[0m",
      "\u001b[1;31mModuleNotFoundError\u001b[0m                       Traceback (most recent call last)",
      "Cell \u001b[1;32mIn[1], line 1\u001b[0m\n\u001b[1;32m----> 1\u001b[0m \u001b[38;5;28;01mimport\u001b[39;00m \u001b[38;5;21;01mspacy\u001b[39;00m\n\u001b[0;32m      3\u001b[0m \u001b[38;5;66;03m# Load spaCy's English model\u001b[39;00m\n\u001b[0;32m      4\u001b[0m nlp \u001b[38;5;241m=\u001b[39m spacy\u001b[38;5;241m.\u001b[39mload(\u001b[38;5;124m\"\u001b[39m\u001b[38;5;124men_core_web_sm\u001b[39m\u001b[38;5;124m\"\u001b[39m)\n",
      "\u001b[1;31mModuleNotFoundError\u001b[0m: No module named 'spacy'"
     ]
    }
   ],
   "source": [
    "import spacy\n",
    "\n",
    "# Load spaCy's English model\n",
    "nlp = spacy.load(\"en_core_web_sm\")\n",
    "\n",
    "# List of words to ignore (measurements, quantities, descriptors)\n",
    "stop_words = ['cup', 'cups', 'tablespoon', 'tablespoons', 'teaspoon', 'teaspoons',\n",
    "              'according', 'taste', 'whole', 'cleaned', 'washed', 'nicely', 'finely',\n",
    "              'chopped', 'and', 'or', 'diced', 'peeled', 'for', 'optional', 'adjust',\n",
    "              'made', 'into', 'paste', 'size', 'variety', 'generous', 'pinch', 'small', 'grams', 'inch']\n",
    "\n",
    "# Function to extract main ingredient names\n",
    "def extract_main_ingredients(ingredient_string):\n",
    "    # Process the text with spaCy NLP\n",
    "    doc = nlp(ingredient_string)\n",
    "    \n",
    "    ingredients = []\n",
    "    current_ingredient = []\n",
    "    inside_parenthesis = False\n",
    "\n",
    "    # Loop through tokens and extract only relevant nouns (ignoring stop words)\n",
    "    for token in doc:\n",
    "        # Detect parentheses and skip the content inside them\n",
    "        if token.text == \"(\":\n",
    "            inside_parenthesis = True\n",
    "            continue\n",
    "        elif token.text == \")\":\n",
    "            inside_parenthesis = False\n",
    "            continue\n",
    "        \n",
    "        # Process the ingredient only if we're not inside parentheses\n",
    "        if not inside_parenthesis:\n",
    "            if token.pos_ in ['NOUN', 'PROPN', 'ADJ'] and token.text.lower() not in stop_words and not token.is_digit:\n",
    "                current_ingredient.append(token.text)\n",
    "            \n",
    "            # When encountering punctuation or stop words, finish the ingredient\n",
    "            elif token.is_punct or token.text.lower() in stop_words:\n",
    "                if current_ingredient:\n",
    "                    ingredients.append(\" \".join(current_ingredient))\n",
    "                    current_ingredient = []\n",
    "\n",
    "    # Append the last ingredient if it exists\n",
    "    if current_ingredient:\n",
    "        ingredients.append(\" \".join(current_ingredient))\n",
    "\n",
    "    # Remove duplicates and return ingredients separated by commas\n",
    "    unique_ingredients = list(dict.fromkeys(ingredients))\n",
    "    \n",
    "    return ', '.join(unique_ingredients)\n",
    "\n",
    "# List of input ingredient strings\n",
    "ingredient_lists = [\n",
    "    '4 cups Indian borage (Doddapatre), cleaned and washed 1/2 cup Curd (Dahi / Yogurt) 1 tablespoon Cumin seeds (Jeera) 1/2 teaspoon Whole Black Peppercorns 1/4 cup Dessicated Coconut Salt, to taste 2 tablespoons Ghee',\n",
    "    '1 Fish, nicely washed with bones on (I used Pompano) For marination 2 tablespoons Curd (Dahi / Yogurt) 1/4 cup Onions, finely chopped 2 Green Chillies, chopped 1 tablespoon Tandoori masala 1 teaspoon Ginger Garlic Paste 1 teaspoon Red Chilli powder 1 teaspoon Garam masala powder 1 teaspoon Coriander Powder (Dhania) 1/2 teaspoon Cumin powder (Jeera) 1 tablespoon Coriander (Dhania) Leaves, finely chopped 1 tablespoon Oil Salt, to taste',\n",
    "    '300 grams Colocasia root (Arbi) 1 Green Bell Pepper (Capsicum), diced 1 Tomato, chopped 1 inch Ginger, grated 1 teaspoon Coriander Powder (Dhania) 1/2 teaspoon Turmeric powder (Haldi) 1/2 teaspoon Red Chilli powder 1 teaspoon Garam masala powder Salt, according to taste Oil, for cooking ',\n",
    "    ' 1 cup Mango (Raw) , diced  2 tablespoons Jaggery  1/4 teaspoon Turmeric powder (Haldi)  1/4 cup Tamarind Water Salt , to taste For Ground Masala 1 cup Fresh coconut , grated  2 teaspoons White Urad Dal (Split)  1 teaspoon Chana dal (Bengal Gram Dal)  1/4 teaspoon Methi Seeds (Fenugreek Seeds)  1/2 teaspoon Cumin seeds (Jeera)  2 teaspoons Sesame seeds (Til seeds)  4 Dry Red Chillies , (adjust) For Tempering: 2 teaspoons Coconut Oil  1/4 teaspoon SSP Asafoetida (Hing)  1 teaspoon Mustard seeds (Rai/ Kadugu) Curry leaves , a few ',\n",
    "    ' 3 Carrots (Gajjar) , grated  1/2 Cabbage (Patta Gobi/ Muttaikose) , finely chopped  1 Onion , finely chopped  4 Green Chillies , slit  1/2 teaspoon Turmeric powder (Haldi)  1 teaspoon Cumin powder (Jeera)  1 tablespoon Oil  1/2 teaspoon Mustard seeds (Rai/ Kadugu)  1/2 cup Fresh coconut , grated  6 Curry leaves Salt , as required ',\n",
    "    ' 1/2 cup Green Moong Dal (Whole) For the coconut masala 1/2 cup Fresh coconut , grated  2 Dry Red Chilli , lightly roasted  1/4 teaspoon Tamarind Paste , or 1 small gooseberry sized tamarind (remove seeds and fibre if any)  2 teaspoons Coconut Oil  1 teaspoon Mustard seeds (Rai/ Kadugu)  1 sprig Curry leaves Salt , to taste ',\n",
    "    ' 300 grams Boneless chicken , cut into chunks  4 sprig Curry leaves For the ginger-garlic green chilli paste 2 inch Ginger  6 cloves Garlic  2 Green Chillies For the chicken sholay kebab batter 1 tablespoon Rice flour  3 tablespoons All Purpose Flour (Maida)  1 tablespoon Gram flour (besan)  2 tablespoons Kashmiri Red Chilli Powder Salt , to taste  1 teaspoon Sambar Powder  1 teaspoon Cumin powder (Jeera)  1 teaspoon Coriander Powder (Dhania) Oil , as required, for deep frying ',\n",
    "    ' 200 grams Paneer (Homemade Cottage Cheese) , cubed  2 Beetroot , peeled and diced  1 Onion , finely chopped  2 Green Chillies , slit  1 inch Ginger , grated  2 cloves Garlic , finely chopped  1 teaspoon Turmeric powder (Haldi)  1 teaspoon Coriander Powder (Dhania)  1 teaspoon Garam masala powder  200 ml Coconut milk  2 teaspoons Oil , for cooking Salt , to taste Red Chilli powder , to taste '\n",
    "    # Add more ingredients here as needed\n",
    "]\n",
    "\n",
    "# Process each ingredient list and print the main ingredients\n",
    "for ingredients_string in ingredient_lists:\n",
    "    main_ingredients = extract_main_ingredients(ingredients_string)\n",
    "    print(main_ingredients)\n"
   ]
  }
 ],
 "metadata": {
  "kernelspec": {
   "display_name": "Python 3",
   "language": "python",
   "name": "python3"
  },
  "language_info": {
   "codemirror_mode": {
    "name": "ipython",
    "version": 3
   },
   "file_extension": ".py",
   "mimetype": "text/x-python",
   "name": "python",
   "nbconvert_exporter": "python",
   "pygments_lexer": "ipython3",
   "version": "3.10.11"
  }
 },
 "nbformat": 4,
 "nbformat_minor": 2
}
