{
 "cells": [
  {
   "cell_type": "code",
   "execution_count": 2,
   "metadata": {},
   "outputs": [
    {
     "name": "stdout",
     "output_type": "stream",
     "text": [
      "Indian borage, Curd, Cumin seeds Black Peppercorns Coconut Salt, Ghee\n",
      "Fish, bones marination Curd, Onions, Green Chillies, Tandoori masala Ginger Garlic Red Chilli powder Garam masala powder Coriander Powder Cumin powder Coriander Leaves, Oil Salt\n",
      "Colocasia root Green Bell Pepper, Tomato, Ginger, Coriander Powder Turmeric powder Red Chilli powder Garam masala powder Salt, Oil\n"
     ]
    }
   ],
   "source": [
    "import spacy\n",
    "\n",
    "# Load spaCy's English model\n",
    "nlp = spacy.load(\"en_core_web_sm\")\n",
    "\n",
    "# List of words to ignore (measurements, quantities, descriptors)\n",
    "stop_words = ['cup', 'cups', 'tablespoon', 'tablespoons', 'teaspoon', 'teaspoons',\n",
    "              'according', 'taste', 'whole', 'cleaned', 'washed', 'nicely', 'finely',\n",
    "              'chopped', 'and', 'or', 'diced', 'peeled', 'for', 'optional', 'adjust',\n",
    "              'made', 'into', 'paste', 'size', 'variety', 'generous', 'pinch', 'small', 'grams', 'inch']\n",
    "\n",
    "# Function to extract main ingredient names\n",
    "def extract_main_ingredients(ingredient_string):\n",
    "    # Process the text with spaCy NLP\n",
    "    doc = nlp(ingredient_string)\n",
    "    \n",
    "    # List to store the main ingredient names\n",
    "    ingredients = []\n",
    "    \n",
    "    # Track when parentheses open\n",
    "    inside_parenthesis = False\n",
    "    current_ingredient = []\n",
    "\n",
    "    # Loop through tokens and extract only relevant nouns (ignoring stop words)\n",
    "    for token in doc:\n",
    "        # If the token is an opening parenthesis, start skipping text\n",
    "        if token.text == \"(\":\n",
    "            inside_parenthesis = True\n",
    "            continue\n",
    "        # If the token is a closing parenthesis, stop skipping text\n",
    "        elif token.text == \")\":\n",
    "            inside_parenthesis = False\n",
    "            continue\n",
    "        \n",
    "        # Only add words to current ingredient if not inside parentheses and relevant noun\n",
    "        if not inside_parenthesis and token.pos_ in ['NOUN', 'PROPN', 'ADJ'] and token.text.lower() not in stop_words and not token.is_digit:\n",
    "            current_ingredient.append(token.text)\n",
    "        \n",
    "        # If we're not inside parentheses and reach punctuation, consider it the end of an ingredient\n",
    "        if token.is_punct and current_ingredient:\n",
    "            ingredients.append(\" \".join(current_ingredient))\n",
    "            current_ingredient = []\n",
    "\n",
    "    # Add the last ingredient if not added yet\n",
    "    if current_ingredient:\n",
    "        ingredients.append(\" \".join(current_ingredient))\n",
    "\n",
    "    # Remove duplicates\n",
    "    unique_ingredients = list(dict.fromkeys(ingredients))\n",
    "    \n",
    "    return ', '.join(unique_ingredients)\n",
    "\n",
    "# List of input ingredient strings\n",
    "ingredient_lists = [\n",
    "    '4 cups Indian borage (Doddapatre) , cleaned and washed 1/2 cup Curd (Dahi / Yogurt) 1 tablespoon Cumin seeds (Jeera) 1/2 teaspoon Whole Black Peppercorns 1/4 cup Dessicated Coconut Salt , to taste 2 tablespoons Ghee',\n",
    "    '1 Fish , nicely washed with bones on (I used Pompano) For marination 2 tablespoons Curd (Dahi / Yogurt) 1/4 cup Onions , finely chopped 2 Green Chillies , chopped 1 tablespoon Tandoori masala 1 teaspoon Ginger Garlic Paste 1 teaspoon Red Chilli powder 1 teaspoon Garam masala powder 1 teaspoon Coriander Powder (Dhania) 1/2 teaspoon Cumin powder (Jeera) 1 tablespoon Coriander (Dhania) Leaves , finely chopped 1 tablespoon Oil Salt , to taste',\n",
    "    '300 grams Colocasia root (Arbi) 1 Green Bell Pepper (Capsicum) , diced 1 Tomato , chopped 1 inch Ginger , grated 1 teaspoon Coriander Powder (Dhania) 1/2 teaspoon Turmeric powder (Haldi) 1/2 teaspoon Red Chilli powder 1 teaspoon Garam masala powder Salt , according to taste Oil , for cooking '\n",
    "    # Add more ingredients here as needed\n",
    "]\n",
    "\n",
    "# Process each ingredient list and print the main ingredients\n",
    "for ingredients_string in ingredient_lists:\n",
    "    main_ingredients = extract_main_ingredients(ingredients_string)\n",
    "    print(main_ingredients)\n"
   ]
  }
 ],
 "metadata": {
  "kernelspec": {
   "display_name": "Python 3",
   "language": "python",
   "name": "python3"
  },
  "language_info": {
   "codemirror_mode": {
    "name": "ipython",
    "version": 3
   },
   "file_extension": ".py",
   "mimetype": "text/x-python",
   "name": "python",
   "nbconvert_exporter": "python",
   "pygments_lexer": "ipython3",
   "version": "3.10.11"
  }
 },
 "nbformat": 4,
 "nbformat_minor": 2
}
